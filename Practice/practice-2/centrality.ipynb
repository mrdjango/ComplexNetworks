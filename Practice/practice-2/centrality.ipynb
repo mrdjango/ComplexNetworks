{
 "cells": [
  {
   "cell_type": "markdown",
   "id": "7e7e1f3e",
   "metadata": {},
   "source": [
    "from google.colab import drive\n",
    "drive.mount('/content/drive')"
   ]
  },
  {
   "cell_type": "code",
   "execution_count": null,
   "id": "9cb60dfb",
   "metadata": {
    "lines_to_next_cell": 2
   },
   "outputs": [],
   "source": [
    "%cd /content/drive/MyDrive/ColabNotebooks/ComplexNetworks/practice-2"
   ]
  },
  {
   "cell_type": "code",
   "execution_count": null,
   "id": "7505a046",
   "metadata": {},
   "outputs": [],
   "source": [
    "import networkx as nx\n",
    "from datasets import zachary_dataset\n",
    "from pprint import pprint\n",
    "from sklearn.cluster import SpectralClustering, KMeans\n",
    "from sklearn import metrics\n",
    "import numpy as np"
   ]
  },
  {
   "cell_type": "code",
   "execution_count": null,
   "id": "f226fb15",
   "metadata": {},
   "outputs": [],
   "source": [
    "data = zachary_dataset()"
   ]
  },
  {
   "cell_type": "code",
   "execution_count": null,
   "id": "52c4942c",
   "metadata": {},
   "outputs": [],
   "source": [
    "# ایجاد یک گراف (شبکه) جدید\n",
    "G = nx.Graph()"
   ]
  },
  {
   "cell_type": "code",
   "execution_count": null,
   "id": "73bff111",
   "metadata": {},
   "outputs": [],
   "source": [
    "G.add_edges_from(data)"
   ]
  },
  {
   "cell_type": "code",
   "execution_count": null,
   "id": "fff1d94b",
   "metadata": {},
   "outputs": [],
   "source": [
    "# values_ by Node\n",
    "values_ = {}\n",
    "node_to_cluster = {}"
   ]
  },
  {
   "cell_type": "code",
   "execution_count": null,
   "id": "b18b812b",
   "metadata": {
    "lines_to_next_cell": 1
   },
   "outputs": [],
   "source": [
    "# محاسبه ماتریس مجاورت گراف\n",
    "adjacency_matrix = nx.to_numpy_array(G)"
   ]
  },
  {
   "cell_type": "code",
   "execution_count": null,
   "id": "ebce090e",
   "metadata": {},
   "outputs": [],
   "source": [
    "# k-path centrality\n",
    "def k_path_centrality(G, k):\n",
    "    centrality = {}\n",
    "    nodes = list(G.nodes())\n",
    "    for node in nodes:\n",
    "        total_paths = 0\n",
    "        for source in nodes:\n",
    "            if source != node:\n",
    "                paths = list(\n",
    "                    nx.all_simple_paths(G, source=source, target=node, cutoff=k)\n",
    "                )\n",
    "                total_paths += len(paths)\n",
    "        centrality[node] = total_paths\n",
    "    return centrality"
   ]
  },
  {
   "cell_type": "code",
   "execution_count": null,
   "id": "933b75b7",
   "metadata": {},
   "outputs": [],
   "source": [
    "# closeness centrality\n",
    "closeness_centrality = nx.closeness_centrality(G)"
   ]
  },
  {
   "cell_type": "code",
   "execution_count": null,
   "id": "f1397dab",
   "metadata": {},
   "outputs": [],
   "source": [
    "# betweenness_centrality\n",
    "betweenness_centrality = nx.betweenness_centrality(G)"
   ]
  },
  {
   "cell_type": "code",
   "execution_count": null,
   "id": "69a98b21",
   "metadata": {},
   "outputs": [],
   "source": [
    "# neighbor_centrality\n",
    "neighbor_centrality = {}"
   ]
  },
  {
   "cell_type": "code",
   "execution_count": null,
   "id": "35db4973",
   "metadata": {},
   "outputs": [],
   "source": [
    "# eigenvector_centrality\n",
    "eigenvector_centrality = nx.eigenvector_centrality(G)"
   ]
  },
  {
   "cell_type": "code",
   "execution_count": null,
   "id": "9e41161a",
   "metadata": {},
   "outputs": [],
   "source": [
    "# k-path centrality\n",
    "k_path_centrality_ = k_path_centrality(G, k=3)"
   ]
  },
  {
   "cell_type": "code",
   "execution_count": null,
   "id": "f6b32929",
   "metadata": {},
   "outputs": [],
   "source": [
    "# page rank\n",
    "pagerank = nx.pagerank(G)"
   ]
  },
  {
   "cell_type": "code",
   "execution_count": null,
   "id": "89fb492b",
   "metadata": {},
   "outputs": [],
   "source": [
    "# closeness centrality\n",
    "for node, centrality in closeness_centrality.items():\n",
    "    # print(f\"Node: {node}: closeness_centrality: {centrality}\", end=\"\\n\")\n",
    "    values_[node] = {\"closeness_centrality\": centrality}"
   ]
  },
  {
   "cell_type": "code",
   "execution_count": null,
   "id": "1175ca41",
   "metadata": {
    "lines_to_next_cell": 2
   },
   "outputs": [],
   "source": [
    "# betweenness_centrality\n",
    "for node, centrality in betweenness_centrality.items():\n",
    "    # print(f\"Node: {node}: betweenness_centrality: {centrality}\", end=\"\\n\")\n",
    "    values_[node][\"betweenness_centrality\"] = centrality"
   ]
  },
  {
   "cell_type": "code",
   "execution_count": null,
   "id": "ccde38fe",
   "metadata": {},
   "outputs": [],
   "source": [
    "# eigenvector_centrality\n",
    "for node, centrality in eigenvector_centrality.items():\n",
    "    # print(f\"Node: {node}: eigenvector_centrality: {centrality}\", end=\"\\n\")\n",
    "    values_[node][\"eigenvector_centrality\"] = centrality"
   ]
  },
  {
   "cell_type": "code",
   "execution_count": null,
   "id": "c0c9462a",
   "metadata": {},
   "outputs": [],
   "source": [
    "# Neighbor-based centrality\n",
    "for node in G.nodes():\n",
    "    neighbor_count = len(list(G.neighbors(node)))\n",
    "    neighbor_centrality[node] = neighbor_count"
   ]
  },
  {
   "cell_type": "code",
   "execution_count": null,
   "id": "5d39146d",
   "metadata": {},
   "outputs": [],
   "source": [
    "for node, centrality in neighbor_centrality.items():\n",
    "    # print(f\"Node {node}: neighbor_centrality{centrality}\")\n",
    "    values_[node][\"neighbor_centrality\"] = centrality"
   ]
  },
  {
   "cell_type": "code",
   "execution_count": null,
   "id": "1447aa2a",
   "metadata": {},
   "outputs": [],
   "source": [
    "# k_path_centrality\n",
    "for node, centrality in k_path_centrality_.items():\n",
    "    # print(f\"Node {node}: k_path_centrality: {centrality}\")\n",
    "    values_[node][\"k_path_centrality\"] = centrality"
   ]
  },
  {
   "cell_type": "code",
   "execution_count": null,
   "id": "595e2318",
   "metadata": {},
   "outputs": [],
   "source": [
    "# نمایش PageRank برای هر گره\n",
    "for node, rank in pagerank.items():\n",
    "    # print(f'گره {node}: PageRank = {rank:.4f}')\n",
    "    values_[node][\"PageRank\"] = f\"{rank:.4f}\""
   ]
  },
  {
   "cell_type": "code",
   "execution_count": null,
   "id": "a0742a2f",
   "metadata": {
    "lines_to_next_cell": 2
   },
   "outputs": [],
   "source": [
    "# Spectral clustering\n",
    "num_clusters = 2  # تعداد خوشه‌ها\n",
    "clustering = SpectralClustering(n_clusters=num_clusters, affinity='rbf', random_state=0)\n",
    "Spectral_labels = clustering.fit_predict(adjacency_matrix)\n",
    "## Result \n",
    "for node, label in enumerate(Spectral_labels):\n",
    "    # print(f'گره {node + 1} در خوشه {label + 1}')\n",
    "    node_to_cluster[node+1] = label + 1 # used for modularity\n",
    "    values_[node+1][\"spectral_cluster\"] = label + 1"
   ]
  },
  {
   "cell_type": "code",
   "execution_count": null,
   "id": "299ed1d7",
   "metadata": {},
   "outputs": [],
   "source": [
    "# K-Means clustering\n",
    "## تعداد خوشه‌ها که می‌خواهید تعیین کنید\n",
    "num_clusters = 2"
   ]
  },
  {
   "cell_type": "code",
   "execution_count": null,
   "id": "0c7b4aa0",
   "metadata": {},
   "outputs": [],
   "source": [
    "## ایجاد یک مدل \n",
    "kmeans = KMeans(n_clusters=num_clusters, random_state=0)\n",
    "## اجرای الگوریتم K-Means بر روی داده\n",
    "kmeans.fit(data)\n",
    "## دسته‌بندی داده‌ها به خوشه‌ها\n",
    "labels = kmeans.labels_\n",
    "## مراکز خوشه‌ها\n",
    "cluster_centers = kmeans.cluster_centers_\n",
    "##  Results\n",
    "print(len(labels))\n",
    "for i, label in enumerate(labels):\n",
    "    # print(f'point {data[i][0]} in cluster: {label + 1}')\n",
    "    if \"kmeans\" not in (values_[data[i][0]]):\n",
    "        values_[data[i][0]][\"kmeans\"] = [{\"point\":data[i],\"cluster\":label + 1}]\n",
    "    else:\n",
    "        values_[data[i][0]][\"kmeans\"] += [{\"point\":data[i],\"cluster\":label + 1}]"
   ]
  },
  {
   "cell_type": "markdown",
   "id": "bfb38999",
   "metadata": {},
   "source": [
    "Modularity using Spectral Clustering\n",
    "# محاسبه معیار Modularity\n",
    "print(G.nodes())\n",
    "print(node_to_cluster)\n",
    "# modularity = nx.community.modularity(G, data, weight='weight')"
   ]
  },
  {
   "cell_type": "markdown",
   "id": "d74b867b",
   "metadata": {},
   "source": [
    "## نمایش معیار Modularity\n",
    "print(f'Modularity: {modularity:.4f}')"
   ]
  },
  {
   "cell_type": "code",
   "execution_count": null,
   "id": "4a0d108c",
   "metadata": {},
   "outputs": [],
   "source": [
    "pprint(values_)"
   ]
  },
  {
   "cell_type": "code",
   "execution_count": null,
   "id": "8747141e",
   "metadata": {},
   "outputs": [],
   "source": []
  }
 ],
 "metadata": {
  "jupytext": {
   "cell_metadata_filter": "-all",
   "main_language": "python",
   "notebook_metadata_filter": "-all"
  },
  "kernelspec": {
   "display_name": "sci-env",
   "language": "python",
   "name": "python3"
  },
  "language_info": {
   "name": "python",
   "version": "3.10.6"
  }
 },
 "nbformat": 4,
 "nbformat_minor": 5
}

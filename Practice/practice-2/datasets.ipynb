{
 "cells": [
  {
   "cell_type": "code",
   "execution_count": null,
   "id": "77767160",
   "metadata": {},
   "outputs": [],
   "source": [
    "\"\"\"\n",
    "This directory contains the TSV and related files of the ucidata-zachary network:\n",
    "    This is the well-known and much-used Zachary karate club network.\n",
    "    The data was collected from the members of a university karate club by Wayne Zachary in 1977.\n",
    "    Each node represents a member of the club, and each edge represents a tie between two members of the club.\n",
    "    The network is undirected.\n",
    "    An often discussed problem using this dataset is to find the two groups of people into which the karate club split after an argument between two teachers. \n",
    "\n",
    "zachary dataset structure: \n",
    "    meta.ucidata-zachary -- Metadata about the network \n",
    "    out.ucidata-zachary -- The adjacency matrix of the network in whitespace-separated values format,\n",
    "        with one edge per line\n",
    "      The meaning of the columns in out.ucidata-zachary are: \n",
    "        First column: ID of from node \n",
    "        Second column: ID of to node\n",
    "        Third column (if present): weight or multiplicity of edge\n",
    "        Fourth column (if present):  timestamp of edges Unix time\n",
    "\"\"\""
   ]
  },
  {
   "cell_type": "code",
   "execution_count": null,
   "id": "af980f75",
   "metadata": {},
   "outputs": [],
   "source": [
    "from pathlib import Path"
   ]
  },
  {
   "cell_type": "code",
   "execution_count": null,
   "id": "bb726092",
   "metadata": {},
   "outputs": [],
   "source": [
    "def zachary_dataset():\n",
    "    file_path = f\"{Path(__file__).parent.as_posix()}/ucidata-zachary.dat\"\n",
    "\n",
    "    # خواندن داده‌ها از فایل و تبدیل به آرایه\n",
    "    data = []\n",
    "    with open(file_path, \"r+\") as file:\n",
    "        for line in file:\n",
    "            # جداکردن دو عدد از هر خط و تبدیل به اعداد صحیح\n",
    "            numbers = [int(x) for x in line.strip().split() if x.isdigit()]\n",
    "            if len(numbers) == 2:\n",
    "                data.append(numbers)\n",
    "\n",
    "    return data"
   ]
  },
  {
   "cell_type": "code",
   "execution_count": null,
   "id": "35f1a62e",
   "metadata": {},
   "outputs": [],
   "source": [
    "if __name__ == \"__main__\":\n",
    "    print(zachary_dataset())"
   ]
  }
 ],
 "metadata": {
  "jupytext": {
   "cell_metadata_filter": "-all",
   "main_language": "python",
   "notebook_metadata_filter": "-all"
  },
  "language_info": {
   "name": "python"
  }
 },
 "nbformat": 4,
 "nbformat_minor": 5
}

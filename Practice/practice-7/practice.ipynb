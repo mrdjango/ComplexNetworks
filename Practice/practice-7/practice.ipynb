{
  "cells": [
    {
      "cell_type": "code",
      "execution_count": 9,
      "metadata": {
        "cellView": "form",
        "colab": {
          "base_uri": "https://localhost:8080/",
          "height": 0
        },
        "id": "PGQVO_Fzhd3r",
        "outputId": "29cae073-aa11-4256-d02e-75ab4145276f"
      },
      "outputs": [],
      "source": [
        "# @title Libraries\n",
        "import torch\n",
        "import os\n",
        "from torch_geometric.datasets import TUDataset\n",
        "from torch_geometric.loader import DataLoader\n",
        "from torch.nn import Linear\n",
        "import torch.nn.functional as F\n",
        "from torch_geometric.nn import GCNConv,GraphConv,GAT\n",
        "from torch_geometric.nn import global_mean_pool\n",
        "from tqdm import tqdm"
      ]
    },
    {
      "cell_type": "markdown",
      "metadata": {
        "id": "qUjKT3GCzrqO"
      },
      "source": [
        "## Creating Data"
      ]
    },
    {
      "cell_type": "code",
      "execution_count": 10,
      "metadata": {
        "colab": {
          "base_uri": "https://localhost:8080/",
          "height": 0
        },
        "id": "HMt1UupKib4x",
        "outputId": "8976dab0-8165-4572-8cb4-c49d9f25da16"
      },
      "outputs": [],
      "source": [
        "dataset = TUDataset(root='data/', name='MUTAG')"
      ]
    },
    {
      "cell_type": "code",
      "execution_count": 20,
      "metadata": {
        "colab": {
          "base_uri": "https://localhost:8080/",
          "height": 0
        },
        "id": "SBlUGOjFkHM-",
        "outputId": "8813f2de-8b56-449d-8725-c46ee6b3597f"
      },
      "outputs": [
        {
          "name": "stdout",
          "output_type": "stream",
          "text": [
            "graphs: 188, features: 7, classes: 2\n"
          ]
        }
      ],
      "source": [
        "print(f'graphs: {len(dataset)}, features: {dataset.num_features}, classes: {dataset.num_classes}')\n"
      ]
    },
    {
      "cell_type": "code",
      "execution_count": 12,
      "metadata": {
        "id": "x4mu0WWPkMKR"
      },
      "outputs": [],
      "source": [
        "dataset = dataset.shuffle()\n",
        "train, test = dataset[:140], dataset[140:]"
      ]
    },
    {
      "cell_type": "code",
      "execution_count": 13,
      "metadata": {
        "id": "Bj8x5JRdm6Gr"
      },
      "outputs": [],
      "source": [
        "train_loader = DataLoader(train, batch_size=50, shuffle=True)\n",
        "test_loader = DataLoader(test, batch_size=50, shuffle=False)"
      ]
    },
    {
      "cell_type": "markdown",
      "metadata": {
        "id": "xc3ig2UNzehq"
      },
      "source": [
        "##  Model"
      ]
    },
    {
      "cell_type": "code",
      "execution_count": 21,
      "metadata": {
        "id": "8ZEtp9hAk0SA"
      },
      "outputs": [],
      "source": [
        "class MyModel(torch.nn.Module):\n",
        "  def __init__(self, hidden_channels,conv1,conv2,conv3):\n",
        "    super(MyModel, self).__init__()\n",
        "    torch.manual_seed(2024)\n",
        "    self.conv1 = conv1\n",
        "    self.conv2 = conv2\n",
        "    self.conv3 = conv3\n",
        "    self.lin = Linear(hidden_channels, dataset.num_classes)\n",
        "\n",
        "  def forward(self, x, edge_index, batch):\n",
        "    x = self.conv1(x, edge_index)\n",
        "    x = F.relu(x)  # Fixed: Apply relu activation function\n",
        "    x = self.conv2(x, edge_index)\n",
        "    x = F.relu(x)  # Fixed: Apply relu activation function\n",
        "    x = self.conv3(x, edge_index)\n",
        "    x = global_mean_pool(x, batch)\n",
        "    x = F.dropout(x, p=0.5, training=self.training)\n",
        "    x = self.lin(x)\n",
        "    return x"
      ]
    },
    {
      "cell_type": "code",
      "execution_count": 23,
      "metadata": {
        "id": "JHFPp8hJmVKo"
      },
      "outputs": [],
      "source": [
        "class ModelHandler():\n",
        "  def __init__(self, model, epochs, learning_rate=0.01):\n",
        "    self.model = model\n",
        "    self.epochs = epochs\n",
        "    self.optimizer = torch.optim.Adam(self.model.parameters(), lr=learning_rate)\n",
        "    self.criterion = torch.nn.CrossEntropyLoss()\n",
        "\n",
        "\n",
        "  def train(self, loader):\n",
        "    with tqdm(range(self.epochs), unit='epoch') as tepochs:\n",
        "      tepochs.set_description('Training')\n",
        "      for _ in tepochs:\n",
        "        self.model.train()\n",
        "        for data in loader: # Iterate in batches over the training dataset.\n",
        "          out = self.model(data.x, data.edge_index, data.batch) # Perform a single forward pass.\n",
        "          loss = self.criterion(out, data.y) # Compute the loss.\n",
        "          loss.backward() # Derive gradients.\n",
        "          self.optimizer.step() # Update parameters based on gradients.\n",
        "          self.optimizer.zero_grad() # Clear gradients.\n",
        "\n",
        "\n",
        "  def test(self, loader):\n",
        "    self.model.eval()\n",
        "    correct = 0\n",
        "    for data in loader: # Iterate in batches over the training/test dataset.\n",
        "      out = self.model(data.x, data.edge_index, data.batch)\n",
        "      pred = out.argmax(dim=1) # Use the class with highest probability.\n",
        "      correct += int((pred == data.y).sum()) # Check against ground-truth labels\n",
        "    return correct / len(loader.dataset) # Derive ratio of correct predictions."
      ]
    },
    {
      "cell_type": "markdown",
      "metadata": {
        "id": "PfyUnZDSxYYr"
      },
      "source": [
        "## Using GCNConv Layer"
      ]
    },
    {
      "cell_type": "code",
      "execution_count": 24,
      "metadata": {
        "colab": {
          "base_uri": "https://localhost:8080/",
          "height": 0
        },
        "id": "kPjcvNcrnxeE",
        "outputId": "a89a9f88-7347-4162-8fb3-4dff2c037c35"
      },
      "outputs": [
        {
          "name": "stdout",
          "output_type": "stream",
          "text": [
            "MyModel(\n",
            "  (conv1): GCNConv(7, 64)\n",
            "  (conv2): GCNConv(64, 64)\n",
            "  (conv3): GCNConv(64, 64)\n",
            "  (lin): Linear(in_features=64, out_features=2, bias=True)\n",
            ")\n"
          ]
        },
        {
          "name": "stderr",
          "output_type": "stream",
          "text": [
            "Training: 100%|██████████| 170/170 [00:03<00:00, 52.85epoch/s]"
          ]
        },
        {
          "name": "stdout",
          "output_type": "stream",
          "text": [
            "\n",
            "\n",
            "0.8142857142857143\n",
            "0.75\n"
          ]
        },
        {
          "name": "stderr",
          "output_type": "stream",
          "text": [
            "\n"
          ]
        }
      ],
      "source": [
        "model = MyModel(hidden_channels=64,\n",
        "                conv1=GCNConv(dataset.num_node_features, 64),\n",
        "                conv2=GCNConv(64, 64),\n",
        "                conv3=GCNConv(64, 64))\n",
        "print(model)\n",
        "\n",
        "handler = ModelHandler(model, 170)\n",
        "\n",
        "handler.train(train_loader)\n",
        "print('\\n')\n",
        "print(handler.test(train_loader))\n",
        "print(handler.test(test_loader))"
      ]
    },
    {
      "cell_type": "markdown",
      "metadata": {
        "id": "O8S95UkaxeH7"
      },
      "source": [
        "## Using GraphConv Layer"
      ]
    },
    {
      "cell_type": "code",
      "execution_count": 25,
      "metadata": {
        "colab": {
          "base_uri": "https://localhost:8080/",
          "height": 0
        },
        "id": "9zdEX-QGrKPG",
        "outputId": "8cb25682-0f4b-4521-ea62-b368b8e4a8ed"
      },
      "outputs": [
        {
          "name": "stdout",
          "output_type": "stream",
          "text": [
            "MyModel(\n",
            "  (conv1): GraphConv(7, 64)\n",
            "  (conv2): GraphConv(64, 64)\n",
            "  (conv3): GraphConv(64, 64)\n",
            "  (lin): Linear(in_features=64, out_features=2, bias=True)\n",
            ")\n"
          ]
        },
        {
          "name": "stderr",
          "output_type": "stream",
          "text": [
            "Training: 100%|██████████| 170/170 [00:03<00:00, 53.65epoch/s]"
          ]
        },
        {
          "name": "stdout",
          "output_type": "stream",
          "text": [
            "\n",
            "\n",
            "0.9214285714285714\n",
            "0.875\n"
          ]
        },
        {
          "name": "stderr",
          "output_type": "stream",
          "text": [
            "\n"
          ]
        }
      ],
      "source": [
        "model = MyModel(hidden_channels=64,\n",
        "                conv1=GraphConv(dataset.num_node_features, 64),\n",
        "                conv2=GraphConv(64, 64),\n",
        "                conv3=GraphConv(64, 64))\n",
        "print(model)\n",
        "\n",
        "handler = ModelHandler(model, 170)\n",
        "\n",
        "handler.train(train_loader)\n",
        "print('\\n')\n",
        "print(handler.test(train_loader))\n",
        "print(handler.test(test_loader))"
      ]
    },
    {
      "cell_type": "markdown",
      "metadata": {
        "id": "Henv4bohx-RK"
      },
      "source": [
        "## Using GAT Layer"
      ]
    },
    {
      "cell_type": "code",
      "execution_count": 26,
      "metadata": {
        "colab": {
          "base_uri": "https://localhost:8080/",
          "height": 0
        },
        "id": "QBVmHfgWx3du",
        "outputId": "cbbd09af-972c-4230-bac5-ca655b118642"
      },
      "outputs": [
        {
          "name": "stdout",
          "output_type": "stream",
          "text": [
            "MyModel(\n",
            "  (conv1): GAT(7, 64, num_layers=3)\n",
            "  (conv2): GAT(64, 64, num_layers=3)\n",
            "  (conv3): GAT(64, 64, num_layers=3)\n",
            "  (lin): Linear(in_features=64, out_features=2, bias=True)\n",
            ")\n"
          ]
        },
        {
          "name": "stderr",
          "output_type": "stream",
          "text": [
            "Training: 100%|██████████| 170/170 [00:10<00:00, 16.80epoch/s]"
          ]
        },
        {
          "name": "stdout",
          "output_type": "stream",
          "text": [
            "\n",
            "\n",
            "0.7714285714285715\n",
            "0.6875\n"
          ]
        },
        {
          "name": "stderr",
          "output_type": "stream",
          "text": [
            "\n"
          ]
        }
      ],
      "source": [
        "model = MyModel(hidden_channels=64,\n",
        "                conv1=GAT(dataset.num_node_features, 64, 3),\n",
        "                conv2=GAT(64, 64, 3),\n",
        "                conv3=GAT(64, 64, 3))\n",
        "print(model)\n",
        "\n",
        "handler = ModelHandler(model, 170)\n",
        "\n",
        "handler.train(train_loader)\n",
        "print('\\n')\n",
        "print(handler.test(train_loader))\n",
        "print(handler.test(test_loader))"
      ]
    },
    {
      "cell_type": "markdown",
      "metadata": {
        "id": "TpE4C9k3yaRh"
      },
      "source": [
        "\n",
        "## Minibatch\n",
        "\n",
        "In order to analyze complex networks, we can construct ego-networks for each node in the graph. An ego-network is a subgraph that includes the focal node and its neighboring nodes up to a certain depth. This sampling procedure is inspired by the neighborhood sampling method proposed by Hamilton et al. (2017a). \n",
        "\n",
        "To create an ego-network, we start with a focal node v ∈ V and sample all nodes within a distance of at most d from v. The sampling is performed at each level, with replacement of a fixed number of neighbors. This ensures that the resulting ego-networks have equal size. \n",
        "\n",
        "By generating multiple ego-networks, we can create a minibatch of size b. This allows us to analyze and process multiple ego-networks simultaneously, which is particularly useful for large-scale network analysis.\n"
      ]
    }
  ],
  "metadata": {
    "colab": {
      "collapsed_sections": [
        "qUjKT3GCzrqO",
        "xc3ig2UNzehq",
        "PfyUnZDSxYYr",
        "O8S95UkaxeH7",
        "Henv4bohx-RK"
      ],
      "provenance": []
    },
    "kernelspec": {
      "display_name": "Python 3",
      "name": "python3"
    },
    "language_info": {
      "codemirror_mode": {
        "name": "ipython",
        "version": 3
      },
      "file_extension": ".py",
      "mimetype": "text/x-python",
      "name": "python",
      "nbconvert_exporter": "python",
      "pygments_lexer": "ipython3",
      "version": "3.10.13"
    }
  },
  "nbformat": 4,
  "nbformat_minor": 0
}

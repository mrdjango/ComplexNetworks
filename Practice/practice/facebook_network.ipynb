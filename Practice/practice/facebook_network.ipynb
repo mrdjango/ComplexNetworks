{
 "cells": [
  {
   "cell_type": "code",
   "execution_count": null,
   "id": "ceba5b72",
   "metadata": {},
   "outputs": [],
   "source": [
    "import pandas as pd\n",
    "import numpy as np\n",
    "import networkx as nx\n",
    "import matplotlib.pyplot as plt\n",
    "from random import randint\n",
    "from pathlib import Path"
   ]
  },
  {
   "cell_type": "code",
   "execution_count": null,
   "id": "ca1de949",
   "metadata": {},
   "outputs": [],
   "source": [
    "%matplotlib inline"
   ]
  },
  {
   "cell_type": "code",
   "execution_count": null,
   "id": "160c6e4c",
   "metadata": {},
   "outputs": [],
   "source": [
    "facebook = pd.read_csv(\n",
    "    f\"../datasets/facebook_combined.txt.gz\",\n",
    "    compression=\"gzip\",\n",
    "    sep=\" \",\n",
    "    names=[\"start_node\", \"end_node\"],\n",
    ")\n",
    "G = nx.from_pandas_edgelist(facebook, \"start_node\", \"end_node\")\n",
    "facebook"
   ]
  },
  {
   "cell_type": "markdown",
   "id": "8b865f2d",
   "metadata": {},
   "source": [
    "### Visualizing the graph"
   ]
  },
  {
   "cell_type": "code",
   "execution_count": null,
   "id": "d9a3be02",
   "metadata": {},
   "outputs": [],
   "source": [
    "fig, ax = plt.subplots(figsize=(15, 9))\n",
    "ax.axis(\"off\")\n",
    "plot_options = {\"node_size\": 10, \"with_labels\": False, \"width\": 0.15}\n",
    "nx.draw_networkx(G, pos=nx.random_layout(G), ax=ax, **plot_options)"
   ]
  },
  {
   "cell_type": "code",
   "execution_count": null,
   "id": "710ee9c5",
   "metadata": {},
   "outputs": [],
   "source": [
    "pos = nx.spring_layout(G, iterations=15, seed=1721)\n",
    "fig, ax = plt.subplots(figsize=(15, 9))\n",
    "ax.axis(\"off\")\n",
    "nx.draw_networkx(G, pos=pos, ax=ax, **plot_options)"
   ]
  },
  {
   "cell_type": "code",
   "execution_count": null,
   "id": "5d69e406",
   "metadata": {},
   "outputs": [],
   "source": [
    "colors = [\"\" for x in range(G.number_of_nodes())]  # initialize colors list\n",
    "counter = 0\n",
    "for com in nx.community.label_propagation_communities(G):\n",
    "    color = \"#%06X\" % randint(0, 0xFFFFFF)  # creates random RGB color\n",
    "    counter += 1\n",
    "    for node in list(\n",
    "        com\n",
    "    ):  # fill colors list with the particular color for the community nodes\n",
    "        colors[node] = color\n",
    "counter"
   ]
  },
  {
   "cell_type": "code",
   "execution_count": null,
   "id": "abcde01c",
   "metadata": {},
   "outputs": [],
   "source": [
    "plt.figure(figsize=(15, 9))\n",
    "plt.axis(\"off\")\n",
    "nx.draw_networkx(\n",
    "    G, pos=pos, node_size=10, with_labels=False, width=0.15, node_color=colors\n",
    ")"
   ]
  },
  {
   "cell_type": "markdown",
   "id": "f0d859c9",
   "metadata": {},
   "source": [
    "## Basic topological attributes"
   ]
  },
  {
   "cell_type": "code",
   "execution_count": null,
   "id": "ab652585",
   "metadata": {},
   "outputs": [],
   "source": [
    "print(\"number_of_nodes: \", G.number_of_nodes())\n",
    "\n",
    "print(\"number_of_edges: \", G.number_of_edges())"
   ]
  },
  {
   "cell_type": "markdown",
   "id": "5997ba47",
   "metadata": {},
   "source": [
    "## Ratio cut method"
   ]
  },
  {
   "cell_type": "code",
   "execution_count": null,
   "id": "960d039b",
   "metadata": {
    "lines_to_next_cell": 2
   },
   "outputs": [],
   "source": [
    "from networkx.algorithms import community\n",
    "communities = community.kernighan_lin_bisection(G, max_iter=100)"
   ]
  },
  {
   "cell_type": "code",
   "execution_count": null,
   "id": "4c23b4c4",
   "metadata": {
    "lines_to_next_cell": 2
   },
   "outputs": [],
   "source": [
    "pos = nx.spring_layout(G)\n",
    "nx.draw(G,pos, with_labels=True, node_size =100, node_color='w', node_shape = '.')\n",
    "\n",
    "for i in range(len(communities)):\n",
    "    nx.draw_networkx_nodes(G, pos, nodelist=communities[i], node_color=colors[i])"
   ]
  }
 ],
 "metadata": {
  "jupytext": {
   "cell_metadata_filter": "-all",
   "custom_cell_magics": "kql"
  },
  "kernelspec": {
   "display_name": "sci-env",
   "language": "python",
   "name": "python3"
  }
 },
 "nbformat": 4,
 "nbformat_minor": 5
}

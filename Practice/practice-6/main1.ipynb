{
 "cells": [
  {
   "cell_type": "code",
   "execution_count": 1,
   "id": "a4a4ce25",
   "metadata": {
    "lines_to_next_cell": 1
   },
   "outputs": [],
   "source": [
    "import torch\n",
    "import torch.nn as nn\n",
    "import torch.nn.functional as F\n",
    "import networkx as nx\n",
    "import numpy as np\n",
    "from torch_geometric.data import Data\n",
    "from torch_geometric.nn import GraphConv"
   ]
  },
  {
   "cell_type": "code",
   "execution_count": null,
   "id": "3c1f191d",
   "metadata": {
    "lines_to_next_cell": 1
   },
   "outputs": [],
   "source": [
    "# تبدیل گراف به بردارهای نمایشی\n",
    "def graph_to_vectors(graph):\n",
    "    adj_matrix = nx.to_numpy_array(graph)\n",
    "    adj_matrix = torch.FloatTensor(adj_matrix)\n",
    "    edge_index = torch.tensor(list(graph.edges)).t().contiguous()\n",
    "    x = F.relu(GraphConv(2, 16)(Data(x=adj_matrix, edge_index=edge_index)))\n",
    "    x = F.relu(GraphConv(16, 32)(Data(x=x)))\n",
    "    x = F.relu(GraphConv(32, 2)(Data(x=x)))\n",
    "    return x"
   ]
  },
  {
   "cell_type": "code",
   "execution_count": null,
   "id": "630f4fd7",
   "metadata": {
    "lines_to_next_cell": 1
   },
   "outputs": [],
   "source": [
    "num_classes = 2\n",
    "# کلاس بند\n",
    "class Classifier(nn.Module):\n",
    "    def __init__(self):\n",
    "        super(Classifier, self).__init__()\n",
    "        self.fc = nn.Linear(2, num_classes)  # num_classes باید تعریف شده باشد\n",
    "\n",
    "    def forward(self, x):\n",
    "        x = F.relu(x)\n",
    "        x = self.fc(x)\n",
    "        return F.log_softmax(x, dim=1)"
   ]
  },
  {
   "cell_type": "code",
   "execution_count": null,
   "id": "53bf5074",
   "metadata": {},
   "outputs": [],
   "source": [
    "# تعریف گراف KarateClub\n",
    "karate_club = nx.karate_club_graph()"
   ]
  },
  {
   "cell_type": "code",
   "execution_count": null,
   "id": "9b1a6711",
   "metadata": {},
   "outputs": [],
   "source": [
    "# تبدیل گراف به بردارهای نمایشی\n",
    "def graph_to_vectors(graph):\n",
    "    adj_matrix = nx.to_numpy_array(graph)\n",
    "    adj_matrix = torch.FloatTensor(adj_matrix)\n",
    "    edge_index = torch.tensor(list(graph.edges)).t().contiguous()\n",
    "    x = F.relu(GraphConv(34, 16)(x=adj_matrix, edge_index=edge_index))  # Adjust the input dimension to 34\n",
    "    x = F.relu(GraphConv(16, 32)(x=x, edge_index=edge_index))\n",
    "    x = F.relu(GraphConv(32, 2)(x=x, edge_index=edge_index))\n",
    "    return x\n",
    "vectors = graph_to_vectors(karate_club)"
   ]
  },
  {
   "cell_type": "code",
   "execution_count": null,
   "id": "2b9dffe0",
   "metadata": {},
   "outputs": [],
   "source": [
    "# تعریف کلاس‌ها\n",
    "labels = [karate_club.nodes[i]['club'] for i in karate_club.nodes]"
   ]
  },
  {
   "cell_type": "code",
   "execution_count": null,
   "id": "1f304866",
   "metadata": {},
   "outputs": [],
   "source": [
    "# تعریف مدل\n",
    "num_classes = len(set(labels))\n",
    "model = Classifier()"
   ]
  },
  {
   "cell_type": "code",
   "execution_count": null,
   "id": "a387115f",
   "metadata": {},
   "outputs": [],
   "source": [
    "# تعریف مسائل بهینه‌سازی و ترین مدل\n",
    "criterion = nn.CrossEntropyLoss()\n",
    "optimizer = torch.optim.Adam(model.parameters(), lr=0.01)"
   ]
  },
  {
   "cell_type": "code",
   "execution_count": null,
   "id": "178d18ef",
   "metadata": {},
   "outputs": [],
   "source": [
    "print(labels)"
   ]
  },
  {
   "cell_type": "code",
   "execution_count": null,
   "id": "1d3e7bb9",
   "metadata": {},
   "outputs": [],
   "source": [
    "# convert labels to numbers and then to tensor\n",
    "# ترین مدل\n",
    "for epoch in range(100):\n",
    "    optimizer.zero_grad()\n",
    "    output = model(vectors)\n",
    "    output = model(vectors)\n",
    "    labels_tensor = torch.LongTensor(labels)  # Convert labels to a tensor\n",
    "    loss = criterion(output, labels_tensor)\n",
    "    loss.backward(retain_graph=True)  # Specify retain_graph=True\n",
    "    optimizer.step()\n",
    "    if epoch % 10 == 0:\n",
    "        print(f'Epoch {epoch}, Loss: {loss.item()}')\n",
    "\n",
    "\n",
    "\n",
    "\n"
   ]
  },
  {
   "cell_type": "code",
   "execution_count": null,
   "id": "1049ef5d",
   "metadata": {},
   "outputs": [],
   "source": [
    "# ارزیابی مدل\n",
    "with torch.no_grad():\n",
    "    model.eval()\n",
    "    predictions = model(vectors).argmax(dim=1)\n",
    "    accuracy = torch.eq(predictions, torch.LongTensor(labels)).sum().item() / len(labels)\n",
    "    print(f'Accuracy: {accuracy * 100:.2f}%')"
   ]
  }
 ],
 "metadata": {
  "jupytext": {
   "cell_metadata_filter": "-all",
   "custom_cell_magics": "kql",
   "encoding": "# -*- coding: utf-8 -*-"
  },
  "kernelspec": {
   "display_name": "Python 3",
   "language": "python",
   "name": "python3"
  },
  "language_info": {
   "codemirror_mode": {
    "name": "ipython",
    "version": 3
   },
   "file_extension": ".py",
   "mimetype": "text/x-python",
   "name": "python",
   "nbconvert_exporter": "python",
   "pygments_lexer": "ipython3",
   "version": "3.10.13"
  }
 },
 "nbformat": 4,
 "nbformat_minor": 5
}

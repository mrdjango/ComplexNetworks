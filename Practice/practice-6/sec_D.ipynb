{
 "cells": [
  {
   "cell_type": "code",
   "execution_count": 1,
   "id": "11ff76eb",
   "metadata": {
    "lines_to_next_cell": 1
   },
   "outputs": [],
   "source": [
    "from torch_geometric.datasets import KarateClub\n",
    "import networkx as nx\n",
    "import numpy as np\n",
    "import torch\n",
    "import torch.nn as nn\n",
    "import torch.optim as optim\n",
    "import torch.nn.functional as F\n",
    "from torch.utils.data import DataLoader, TensorDataset\n",
    "from torch_geometric.utils import to_networkx\n",
    "from sklearn.manifold import SpectralEmbedding\n"
   ]
  },
  {
   "cell_type": "code",
   "execution_count": 9,
   "metadata": {},
   "outputs": [
    {
     "name": "stderr",
     "output_type": "stream",
     "text": [
      "/home/codespace/.python/current/lib/python3.10/site-packages/torch_geometric/data/in_memory_dataset.py:284: UserWarning: It is not recommended to directly access the internal storage format `data` of an 'InMemoryDataset'. If you are absolutely certain what you are doing, access the internal storage via `InMemoryDataset._data` instead to suppress this warning. Alternatively, you can access stacked individual attributes of every graph via `dataset.{attr_name}`.\n",
      "  warnings.warn(msg)\n"
     ]
    },
    {
     "ename": "TypeError",
     "evalue": "eq() received an invalid combination of arguments - got (Tensor, csr_array), but expected one of:\n * (Tensor input, Tensor other, *, Tensor out)\n * (Tensor input, Number other, *, Tensor out)\n",
     "output_type": "error",
     "traceback": [
      "\u001b[0;31m---------------------------------------------------------------------------\u001b[0m",
      "\u001b[0;31mTypeError\u001b[0m                                 Traceback (most recent call last)",
      "\u001b[1;32m/workspaces/ComplexNetworks/Practice/practice-6/sec_D.ipynb Cell 2\u001b[0m line \u001b[0;36m1\n\u001b[1;32m     <a href='vscode-notebook-cell://codespaces%2Borange-carnival-g447g4p7xgxjhr7/workspaces/ComplexNetworks/Practice/practice-6/sec_D.ipynb#X14sdnNjb2RlLXJlbW90ZQ%3D%3D?line=12'>13</a>\u001b[0m adj2 \u001b[39m=\u001b[39m nx\u001b[39m.\u001b[39madjacency_matrix(G)\n\u001b[1;32m     <a href='vscode-notebook-cell://codespaces%2Borange-carnival-g447g4p7xgxjhr7/workspaces/ComplexNetworks/Practice/practice-6/sec_D.ipynb#X14sdnNjb2RlLXJlbW90ZQ%3D%3D?line=14'>15</a>\u001b[0m \u001b[39m# check if the two adjacency matrices are the same\u001b[39;00m\n\u001b[0;32m---> <a href='vscode-notebook-cell://codespaces%2Borange-carnival-g447g4p7xgxjhr7/workspaces/ComplexNetworks/Practice/practice-6/sec_D.ipynb#X14sdnNjb2RlLXJlbW90ZQ%3D%3D?line=15'>16</a>\u001b[0m \u001b[39mprint\u001b[39m(torch\u001b[39m.\u001b[39mall(torch\u001b[39m.\u001b[39;49meq(adj, adj2)))\n\u001b[1;32m     <a href='vscode-notebook-cell://codespaces%2Borange-carnival-g447g4p7xgxjhr7/workspaces/ComplexNetworks/Practice/practice-6/sec_D.ipynb#X14sdnNjb2RlLXJlbW90ZQ%3D%3D?line=17'>18</a>\u001b[0m \u001b[39m# get the node labels from the dataset\u001b[39;00m\n\u001b[1;32m     <a href='vscode-notebook-cell://codespaces%2Borange-carnival-g447g4p7xgxjhr7/workspaces/ComplexNetworks/Practice/practice-6/sec_D.ipynb#X14sdnNjb2RlLXJlbW90ZQ%3D%3D?line=18'>19</a>\u001b[0m labels \u001b[39m=\u001b[39m dataset\u001b[39m.\u001b[39mdata\u001b[39m.\u001b[39my\n",
      "\u001b[0;31mTypeError\u001b[0m: eq() received an invalid combination of arguments - got (Tensor, csr_array), but expected one of:\n * (Tensor input, Tensor other, *, Tensor out)\n * (Tensor input, Number other, *, Tensor out)\n"
     ]
    }
   ],
   "source": [
    "# concatenate nx.karate_club_graph() and torch_geometric.datasets.KarateClub() to get the same graph\n",
    "\n"
   ]
  },
  {
   "cell_type": "code",
   "execution_count": 5,
   "id": "c2f7fbe9",
   "metadata": {
    "lines_to_next_cell": 1
   },
   "outputs": [
    {
     "data": {
      "text/plain": [
       "array([[0., 1., 0., ..., 0., 0., 0.],\n",
       "       [1., 0., 0., ..., 0., 0., 0.],\n",
       "       [0., 0., 0., ..., 0., 0., 0.],\n",
       "       ...,\n",
       "       [0., 0., 0., ..., 0., 0., 0.],\n",
       "       [0., 0., 0., ..., 0., 0., 1.],\n",
       "       [0., 0., 0., ..., 0., 1., 0.]])"
      ]
     },
     "execution_count": 5,
     "metadata": {},
     "output_type": "execute_result"
    }
   ],
   "source": [
    "edge_list = [(edge[0], edge[1]) for edge in combined_representation]\n",
    "graph = nx.from_edgelist(edge_list)\n",
    "X = nx.to_numpy_array(graph)\n",
    "position = nx.spring_layout(graph, seed=55)\n",
    "N = len(X)\n",
    "X"
   ]
  },
  {
   "cell_type": "code",
   "execution_count": 6,
   "metadata": {},
   "outputs": [
    {
     "data": {
      "text/plain": [
       "array([[0., 1., 1., ..., 0., 0., 0.],\n",
       "       [1., 0., 1., ..., 0., 0., 0.],\n",
       "       [1., 1., 0., ..., 0., 0., 0.],\n",
       "       ...,\n",
       "       [0., 0., 0., ..., 0., 0., 1.],\n",
       "       [0., 0., 0., ..., 0., 0., 0.],\n",
       "       [0., 0., 0., ..., 1., 0., 0.]])"
      ]
     },
     "execution_count": 6,
     "metadata": {},
     "output_type": "execute_result"
    }
   ],
   "source": [
    "graph = nx.from_edgelist(data.edge_index.t().tolist())\n",
    "X = nx.to_numpy_array(graph)\n",
    "position = nx.spring_layout(graph, seed=55)\n",
    "N = len(X)\n",
    "X"
   ]
  },
  {
   "cell_type": "code",
   "execution_count": 7,
   "id": "2ad01df4",
   "metadata": {},
   "outputs": [
    {
     "data": {
      "text/plain": [
       "(34,)"
      ]
     },
     "execution_count": 7,
     "metadata": {},
     "output_type": "execute_result"
    }
   ],
   "source": [
    "labels = []\n",
    "for i in graph.nodes:\n",
    "    if 'club' in graph.nodes[i]:\n",
    "        club_names = graph.nodes[i]['club']\n",
    "        labels.append(1 if club_names == 'Officer' else 0)\n",
    "    else:\n",
    "        labels.append(0)  # Default label if 'club' key is not present\n",
    "Y = np.array(labels)\n",
    "X = torch.FloatTensor(X)\n",
    "y = torch.LongTensor(Y)\n",
    "Y.shape"
   ]
  },
  {
   "cell_type": "code",
   "execution_count": null,
   "id": "02a4d233",
   "metadata": {},
   "outputs": [],
   "source": [
    "# Split the dataset into training and testing sets\n",
    "split = int(0.8 * len(X))\n",
    "X_train, X_test = X[:split], X[split:]\n",
    "y_train, y_test = y[:split], y[split:]"
   ]
  },
  {
   "cell_type": "code",
   "execution_count": null,
   "id": "184d4366",
   "metadata": {},
   "outputs": [],
   "source": [
    "# Create DataLoader for training and testing sets\n",
    "train_dataset = TensorDataset(X_train, y_train)\n",
    "test_dataset = TensorDataset(X_test, y_test)\n",
    "train_loader = DataLoader(train_dataset, batch_size=32, shuffle=True)\n",
    "test_loader = DataLoader(test_dataset, batch_size=32)"
   ]
  },
  {
   "cell_type": "code",
   "execution_count": null,
   "id": "ad50648b",
   "metadata": {},
   "outputs": [],
   "source": [
    "class KarateClubClassifier(nn.Module):\n",
    "    def __init__(self, input_size, hidden_sizes, output_size):\n",
    "        super(KarateClubClassifier, self).__init__()\n",
    "        self.layers = []\n",
    "        for i, hidden_size in enumerate(hidden_sizes):\n",
    "            if i == 0:\n",
    "                self.layers.append(nn.Linear(input_size, hidden_size))\n",
    "            else:\n",
    "                self.layers.append(nn.Linear(hidden_sizes[i-1], hidden_size))\n",
    "            self.layers.append(nn.ReLU())\n",
    "        self.layers.append(nn.Linear(hidden_sizes[-1], output_size))\n",
    "        self.model = nn.Sequential(*self.layers)\n",
    "\n",
    "    def forward(self, x):\n",
    "        return self.model(x)\n"
   ]
  },
  {
   "cell_type": "code",
   "execution_count": null,
   "id": "8b1b9473",
   "metadata": {},
   "outputs": [],
   "source": [
    "input_size = X.shape[1]\n",
    "layer_result = []\n",
    "\n",
    "def layer_run(layer_size):\n",
    "    hidden_sizes = [64 for i in range(layer_size)] \n",
    "    output_size = 2\n",
    "    model = KarateClubClassifier(input_size, hidden_sizes, output_size)\n",
    "    criterion = nn.CrossEntropyLoss()\n",
    "    optimizer = optim.Adam(model.parameters(), lr=0.001)\n",
    "    \n",
    "    for epoch in range(70):\n",
    "        for inputs, labels in train_loader:\n",
    "            optimizer.zero_grad()\n",
    "            outputs = model(inputs)\n",
    "            loss = criterion(outputs, labels)\n",
    "            loss.backward()\n",
    "            optimizer.step()\n",
    "    correct = 0\n",
    "    total = 0\n",
    "    with torch.no_grad():\n",
    "        for inputs, labels in test_loader:\n",
    "            outputs = model(inputs)\n",
    "            _, predicted = torch.max(outputs.data, 1)\n",
    "            total += labels.size(0)\n",
    "            correct += (predicted == labels).sum().item()\n",
    "\n",
    "    print('layer_size: {} , Accuracy:  {} %'.format(layer_size,100 * correct / total))\n",
    "    layer_result.append(100 * correct / total)\n",
    "\n"
   ]
  },
  {
   "cell_type": "markdown",
   "metadata": {},
   "source": [
    "### Section A&B: 2-20 layers"
   ]
  },
  {
   "cell_type": "code",
   "execution_count": null,
   "metadata": {},
   "outputs": [],
   "source": [
    "for i in range(1, 20):\n",
    "    layer_run(i)"
   ]
  },
  {
   "cell_type": "markdown",
   "metadata": {},
   "source": [
    "### Section C:\n",
    "\n",
    "by increasing the number of layers, the accuracy of the model increases. However, the accuracy of the model is not always increasing. For example, when the number of layers is 7, the accuracy of the model is 100, but when the number of layers is 8, the accuracy of the model is 71. This is because the model is overfitting. for high number of layers, the model is overfitting and the accuracy of the model is decreasing and model going to be unstable."
   ]
  }
 ],
 "metadata": {
  "jupytext": {
   "cell_metadata_filter": "-all",
   "main_language": "python",
   "notebook_metadata_filter": "-all"
  },
  "kernelspec": {
   "display_name": "Python 3",
   "language": "python",
   "name": "python3"
  },
  "language_info": {
   "codemirror_mode": {
    "name": "ipython",
    "version": 3
   },
   "file_extension": ".py",
   "mimetype": "text/x-python",
   "name": "python",
   "nbconvert_exporter": "python",
   "pygments_lexer": "ipython3",
   "version": "3.10.13"
  }
 },
 "nbformat": 4,
 "nbformat_minor": 5
}

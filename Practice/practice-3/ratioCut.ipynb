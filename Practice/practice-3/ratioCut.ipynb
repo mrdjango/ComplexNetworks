{
 "cells": [
  {
   "cell_type": "code",
   "execution_count": null,
   "id": "61ba2b6c",
   "metadata": {},
   "outputs": [],
   "source": [
    "import networkx as nx"
   ]
  },
  {
   "cell_type": "code",
   "execution_count": null,
   "id": "47bf87ae",
   "metadata": {},
   "outputs": [],
   "source": [
    "# تعریف گراف\n",
    "G = nx.Graph()"
   ]
  },
  {
   "cell_type": "code",
   "execution_count": null,
   "id": "aa65d132",
   "metadata": {
    "lines_to_next_cell": 1
   },
   "outputs": [],
   "source": [
    "# اضافه کردن یال‌ها به گراف\n",
    "G.add_edges_from([(1, 2), (1, 3), (2, 3), (2, 4), (4, 5), (6, 7), (7, 8)])"
   ]
  },
  {
   "cell_type": "code",
   "execution_count": null,
   "id": "e1fb682b",
   "metadata": {
    "lines_to_next_cell": 1
   },
   "outputs": [],
   "source": [
    "# تابع برای محاسبه معیار\n",
    "def maximize_avg_link_density(graph, partitions):\n",
    "    max_avg_link_density = 0\n",
    "\n",
    "    for partition in partitions:\n",
    "        link_density = 0\n",
    "        num_nodes = len(partition)\n",
    "\n",
    "        for u, v in graph.edges():\n",
    "            if u in partition and v in partition:\n",
    "                link_density += 1\n",
    "\n",
    "        avg_link_density = link_density / num_nodes\n",
    "        if avg_link_density > max_avg_link_density:\n",
    "            max_avg_link_density = avg_link_density\n",
    "\n",
    "    return max_avg_link_density"
   ]
  },
  {
   "cell_type": "code",
   "execution_count": null,
   "id": "8d3ac4be",
   "metadata": {},
   "outputs": [],
   "source": [
    "# تعریف گروه‌ها یا انجمن‌ها (در اینجا تستی انجام می‌دهیم)\n",
    "group1 = {1, 2, 3}\n",
    "group2 = {4, 5}\n",
    "group3 = {6, 7, 8}"
   ]
  },
  {
   "cell_type": "code",
   "execution_count": null,
   "id": "1d43da95",
   "metadata": {},
   "outputs": [],
   "source": [
    "# محاسبه معیار برای هر گروه\n",
    "partitions = [group1, group2, group3]\n",
    "max_avg_link = maximize_avg_link_density(G, partitions)"
   ]
  },
  {
   "cell_type": "code",
   "execution_count": null,
   "id": "061e97f0",
   "metadata": {},
   "outputs": [],
   "source": [
    "print(\"Maximized Average Link Density:\", max_avg_link)"
   ]
  }
 ],
 "metadata": {
  "jupytext": {
   "cell_metadata_filter": "-all",
   "main_language": "python",
   "notebook_metadata_filter": "-all"
  },
  "language_info": {
   "name": "python"
  }
 },
 "nbformat": 4,
 "nbformat_minor": 5
}

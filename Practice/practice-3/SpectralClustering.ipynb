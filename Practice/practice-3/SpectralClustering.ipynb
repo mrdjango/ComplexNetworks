{
 "cells": [
  {
   "cell_type": "code",
   "execution_count": null,
   "id": "09b9ff6b",
   "metadata": {
    "lines_to_next_cell": 2
   },
   "outputs": [],
   "source": [
    "import networkx as nx\n",
    "import matplotlib.pyplot as plt\n",
    "from sklearn.cluster import SpectralClustering"
   ]
  },
  {
   "cell_type": "code",
   "execution_count": null,
   "id": "17146f16",
   "metadata": {},
   "outputs": [],
   "source": [
    "# خواندن دیتاست Zachary's Karate Club و ساخت گراف\n",
    "G = nx.karate_club_graph()"
   ]
  },
  {
   "cell_type": "code",
   "execution_count": null,
   "id": "f53f1ff4",
   "metadata": {},
   "outputs": [],
   "source": [
    "# ایجاد ماتریس مجاورت گراف\n",
    "adjacency_matrix = nx.to_numpy_array(G)"
   ]
  },
  {
   "cell_type": "code",
   "execution_count": null,
   "id": "28f26d4c",
   "metadata": {},
   "outputs": [],
   "source": [
    "# اجرای Spectral Clustering\n",
    "n_clusters = 2  # تعداد کلاسترها\n",
    "spectral_clustering = SpectralClustering(n_clusters=n_clusters, affinity='precomputed', random_state=0)\n",
    "labels = spectral_clustering.fit_predict(adjacency_matrix)"
   ]
  },
  {
   "cell_type": "code",
   "execution_count": null,
   "id": "efd79fce",
   "metadata": {},
   "outputs": [],
   "source": [
    "# نمایش نتایج\n",
    "pos = nx.spring_layout(G)\n",
    "plt.figure(figsize=(8, 4))\n",
    "plt.subplot(121)\n",
    "nx.draw(G, pos, with_labels=True, node_color='lightblue', node_size=300)\n",
    "plt.title(\"Karate Club Graph\")"
   ]
  },
  {
   "cell_type": "code",
   "execution_count": null,
   "id": "3701cd97",
   "metadata": {},
   "outputs": [],
   "source": [
    "plt.subplot(122)\n",
    "nx.draw(G, pos, with_labels=True, node_color=labels, cmap=plt.cm.viridis, node_size=300)\n",
    "plt.title(\"Spectral Clustering\")"
   ]
  },
  {
   "cell_type": "code",
   "execution_count": null,
   "id": "21b24011",
   "metadata": {},
   "outputs": [],
   "source": [
    "plt.show()"
   ]
  }
 ],
 "metadata": {
  "jupytext": {
   "cell_metadata_filter": "-all",
   "main_language": "python",
   "notebook_metadata_filter": "-all"
  },
  "language_info": {
   "name": "python"
  }
 },
 "nbformat": 4,
 "nbformat_minor": 5
}

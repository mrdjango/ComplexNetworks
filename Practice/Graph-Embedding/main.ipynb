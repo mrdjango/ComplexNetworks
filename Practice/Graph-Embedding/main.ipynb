{
 "cells": [
  {
   "cell_type": "markdown",
   "metadata": {},
   "source": [
    "### Mostafa Shahbazi 40252521602"
   ]
  },
  {
   "cell_type": "code",
   "execution_count": 29,
   "id": "6c69d8dd",
   "metadata": {},
   "outputs": [],
   "source": [
    "import networkx as nx\n",
    "from sklearn.manifold import SpectralEmbedding\n",
    "from node2vec import Node2Vec\n",
    "# import warnings\n",
    "# warnings.filterwarnings('ignore')\n",
    "\n",
    "# %matplotlib inline"
   ]
  },
  {
   "cell_type": "code",
   "execution_count": 24,
   "id": "d2fd4e78",
   "metadata": {},
   "outputs": [],
   "source": [
    "# خواندن گراف از فایل یا منبع دیگر\n",
    "# به عنوان مثال، در اینجا از یک فایل edge_list.txt استفاده شده است\n",
    "G = nx.karate_club_graph()"
   ]
  },
  {
   "cell_type": "code",
   "execution_count": 40,
   "id": "b75cfadb",
   "metadata": {},
   "outputs": [],
   "source": [
    "# الگوریتم Laplacian Eigenmap\n",
    "laplacian_matrix = nx.laplacian_matrix(G)\n",
    "\n",
    "def initial_data(dimensions):\n",
    "    laplacian_eigenmap = SpectralEmbedding(n_components=dimensions, affinity='nearest_neighbors', eigen_solver='arpack')\n",
    "    laplacian_embedding = laplacian_eigenmap.fit_transform(laplacian_matrix)\n",
    "    # الگوریتم Node2Vec\n",
    "    node2vec = Node2Vec(G, dimensions=dimensions, walk_length=30, num_walks=200, workers=2)\n",
    "    model = node2vec.fit(window=10, min_count=1, batch_words=4)\n",
    "    node2vec_embedding = {node: model.wv[index] for index, node in enumerate(model.wv.index_to_key)}\n",
    "    # نمایش داده‌های به دست آمده\n",
    "    # print(\"Laplacian Eigenmap Embedding:\")\n",
    "    # print(laplacian_embedding)\n",
    "    # print(\"\\nNode2Vec Embedding:\")\n",
    "    # print(node2vec_embedding)\n",
    "    return laplacian_embedding, node2vec_embedding"
   ]
  },
  {
   "cell_type": "markdown",
   "metadata": {},
   "source": [
    "### K-means And Hierarchical Clustering"
   ]
  },
  {
   "cell_type": "code",
   "execution_count": 26,
   "metadata": {},
   "outputs": [],
   "source": [
    "import numpy as np\n",
    "from sklearn.cluster import KMeans, AgglomerativeClustering\n",
    "from sklearn.metrics import silhouette_score\n",
    "from scipy.cluster.hierarchy import dendrogram, linkage\n",
    "import matplotlib.pyplot as plt"
   ]
  },
  {
   "cell_type": "code",
   "execution_count": 27,
   "metadata": {},
   "outputs": [],
   "source": [
    "# تعداد خوشه‌ها\n",
    "n_clusters = 2\n",
    "\n",
    "def k_means(embedding_data, algo=None):\n",
    "    # اجرای الگوریتم K-Means\n",
    "    kmeans = KMeans(n_clusters=n_clusters, random_state=42)\n",
    "    kmeans_labels = kmeans.fit_predict(embedding_data)\n",
    "\n",
    "    # ارزیابی K-Means با استفاده از Silhouette Score\n",
    "    silhouette_avg_kmeans = silhouette_score(embedding_data, kmeans_labels)\n",
    "    print(f\"\\n{algo} Silhouette Score for K-Means: {silhouette_avg_kmeans}\")\n",
    "\n",
    "\n",
    "def hierarchical_clustering(embedding_data, algo=None):\n",
    "    # اجرای الگوریتم Hierarchical Clustering\n",
    "    agg_clustering = AgglomerativeClustering(n_clusters=n_clusters)\n",
    "    agg_labels = agg_clustering.fit_predict(embedding_data)\n",
    "\n",
    "    # ارزیابی Hierarchical Clustering با استفاده از Silhouette Score\n",
    "    silhouette_avg_agg = silhouette_score(embedding_data, agg_labels)\n",
    "    print(f\"{algo} Silhouette Score for Hierarchical Clustering: {silhouette_avg_agg}\", end=\"\\n+++++++++++\\n\")\n",
    "\n",
    "\n",
    "def dendrogram(embedding_data):\n",
    "    # نمایش دندروگرام برای Hierarchical Clustering\n",
    "    linkage_matrix = linkage(embedding_data, method='ward')\n",
    "    dendrogram(linkage_matrix)\n",
    "    plt.title('Hierarchical Clustering Dendrogram')\n",
    "    plt.show()"
   ]
  },
  {
   "cell_type": "markdown",
   "metadata": {},
   "source": [
    "#### node2vec&laplacian dimensions:5"
   ]
  },
  {
   "cell_type": "code",
   "execution_count": 41,
   "metadata": {},
   "outputs": [
    {
     "name": "stderr",
     "output_type": "stream",
     "text": [
      "Computing transition probabilities: 100%|██████████| 34/34 [00:00<00:00, 2690.13it/s]"
     ]
    },
    {
     "name": "stderr",
     "output_type": "stream",
     "text": [
      "\n",
      "Generating walks (CPU: 2): 100%|██████████| 100/100 [00:00<00:00, 111.90it/s]\n",
      "Generating walks (CPU: 1): 100%|██████████| 100/100 [00:00<00:00, 107.64it/s]\n"
     ]
    },
    {
     "name": "stdout",
     "output_type": "stream",
     "text": [
      "\n",
      "node2vec Silhouette Score for K-Means: 0.4885216951370239\n",
      "node2vec Silhouette Score for Hierarchical Clustering: 0.4885216951370239\n",
      "+++++++++++\n",
      "\n",
      "laplacian Silhouette Score for K-Means: 0.9658486651281374\n",
      "laplacian Silhouette Score for Hierarchical Clustering: 0.9658486651281374\n",
      "+++++++++++\n"
     ]
    }
   ],
   "source": [
    "laplacian_embedding, node2vec_embedding = initial_data(dimensions=5)\n",
    "embedding_data = np.array(list(node2vec_embedding.values()))\n",
    "\n",
    "k_means(embedding_data=embedding_data, algo=\"node2vec\")\n",
    "hierarchical_clustering(embedding_data=embedding_data, algo=\"node2vec\")\n",
    "\n",
    "# laplacian dimensions:5\n",
    "embedding_data = laplacian_embedding\n",
    "\n",
    "k_means(embedding_data=embedding_data, algo=\"laplacian\")\n",
    "hierarchical_clustering(embedding_data=embedding_data, algo=\"laplacian\")"
   ]
  },
  {
   "cell_type": "markdown",
   "metadata": {},
   "source": [
    "#### node2vec&laplacian dimensions:4"
   ]
  },
  {
   "cell_type": "code",
   "execution_count": 43,
   "metadata": {},
   "outputs": [
    {
     "name": "stderr",
     "output_type": "stream",
     "text": [
      "Computing transition probabilities: 100%|██████████| 34/34 [00:00<00:00, 2877.56it/s]"
     ]
    },
    {
     "name": "stderr",
     "output_type": "stream",
     "text": [
      "\n",
      "Generating walks (CPU: 1): 100%|██████████| 100/100 [00:00<00:00, 128.93it/s]\n",
      "Generating walks (CPU: 2): 100%|██████████| 100/100 [00:00<00:00, 121.90it/s]\n"
     ]
    },
    {
     "name": "stdout",
     "output_type": "stream",
     "text": [
      "\n",
      "node2vec Silhouette Score for K-Means: 0.5307736396789551\n",
      "node2vec Silhouette Score for Hierarchical Clustering: 0.5307736396789551\n",
      "+++++++++++\n",
      "\n",
      "laplacian Silhouette Score for K-Means: 0.9573535134186875\n",
      "laplacian Silhouette Score for Hierarchical Clustering: 0.9573535134186875\n",
      "+++++++++++\n"
     ]
    }
   ],
   "source": [
    "laplacian_embedding, node2vec_embedding = initial_data(dimensions=4)\n",
    "\n",
    "embedding_data = np.array(list(node2vec_embedding.values()))\n",
    "\n",
    "k_means(embedding_data=embedding_data, algo=\"node2vec\")\n",
    "hierarchical_clustering(embedding_data=embedding_data, algo=\"node2vec\")\n",
    "\n",
    "# laplacian dimensions:5\n",
    "embedding_data = laplacian_embedding\n",
    "\n",
    "k_means(embedding_data=embedding_data, algo=\"laplacian\")\n",
    "hierarchical_clustering(embedding_data=embedding_data, algo=\"laplacian\")"
   ]
  },
  {
   "cell_type": "markdown",
   "metadata": {},
   "source": [
    "#### node2vec&laplacian dimensions:2"
   ]
  },
  {
   "cell_type": "code",
   "execution_count": 44,
   "metadata": {},
   "outputs": [
    {
     "name": "stderr",
     "output_type": "stream",
     "text": [
      "Computing transition probabilities: 100%|██████████| 34/34 [00:00<00:00, 719.43it/s]"
     ]
    },
    {
     "name": "stderr",
     "output_type": "stream",
     "text": [
      "\n",
      "Generating walks (CPU: 2): 100%|██████████| 100/100 [00:00<00:00, 101.68it/s]\n",
      "Generating walks (CPU: 1): 100%|██████████| 100/100 [00:01<00:00, 90.09it/s]\n"
     ]
    },
    {
     "name": "stdout",
     "output_type": "stream",
     "text": [
      "\n",
      "node2vec Silhouette Score for K-Means: 0.7241325974464417\n",
      "node2vec Silhouette Score for Hierarchical Clustering: 0.7241325974464417\n",
      "+++++++++++\n",
      "\n",
      "laplacian Silhouette Score for K-Means: 0.8055972336213726\n",
      "laplacian Silhouette Score for Hierarchical Clustering: 0.8055972336213726\n",
      "+++++++++++\n"
     ]
    }
   ],
   "source": [
    "laplacian_embedding, node2vec_embedding = initial_data(dimensions=2)\n",
    "\n",
    "embedding_data = np.array(list(node2vec_embedding.values()))\n",
    "\n",
    "k_means(embedding_data=embedding_data, algo=\"node2vec\")\n",
    "hierarchical_clustering(embedding_data=embedding_data, algo=\"node2vec\")\n",
    "\n",
    "# laplacian dimensions:5\n",
    "embedding_data = laplacian_embedding\n",
    "\n",
    "k_means(embedding_data=embedding_data, algo=\"laplacian\")\n",
    "hierarchical_clustering(embedding_data=embedding_data, algo=\"laplacian\")"
   ]
  }
 ],
 "metadata": {
  "jupytext": {
   "cell_metadata_filter": "-all",
   "main_language": "python",
   "notebook_metadata_filter": "-all"
  },
  "kernelspec": {
   "display_name": "sci-env",
   "language": "python",
   "name": "python3"
  },
  "language_info": {
   "codemirror_mode": {
    "name": "ipython",
    "version": 3
   },
   "file_extension": ".py",
   "mimetype": "text/x-python",
   "name": "python",
   "nbconvert_exporter": "python",
   "pygments_lexer": "ipython3",
   "version": "3.10.6"
  }
 },
 "nbformat": 4,
 "nbformat_minor": 5
}
